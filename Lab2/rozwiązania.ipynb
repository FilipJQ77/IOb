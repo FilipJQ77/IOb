{
 "cells": [
  {
   "cell_type": "markdown",
   "metadata": {},
   "source": [
    "# Zadanie 1 (na 3.5)"
   ]
  },
  {
   "cell_type": "code",
   "execution_count": 1,
   "metadata": {
    "scrolled": true
   },
   "outputs": [
    {
     "ename": "ModuleNotFoundError",
     "evalue": "No module named 'cowsay'",
     "output_type": "error",
     "traceback": [
      "\u001b[1;31m---------------------------------------------------------------------------\u001b[0m",
      "\u001b[1;31mModuleNotFoundError\u001b[0m                       Traceback (most recent call last)",
      "\u001b[1;32m<ipython-input-1-cfe729f2bc6e>\u001b[0m in \u001b[0;36m<module>\u001b[1;34m\u001b[0m\n\u001b[1;32m----> 1\u001b[1;33m \u001b[1;32mimport\u001b[0m \u001b[0mcowsay\u001b[0m\u001b[1;33m\u001b[0m\u001b[1;33m\u001b[0m\u001b[0m\n\u001b[0m\u001b[0;32m      2\u001b[0m \u001b[1;33m\u001b[0m\u001b[0m\n\u001b[0;32m      3\u001b[0m \u001b[0mcowsay\u001b[0m\u001b[1;33m.\u001b[0m\u001b[0mturtle\u001b[0m\u001b[1;33m(\u001b[0m\u001b[1;34m\"Szpinak, jak mi dadzą to jem\"\u001b[0m\u001b[1;33m)\u001b[0m\u001b[1;33m\u001b[0m\u001b[1;33m\u001b[0m\u001b[0m\n",
      "\u001b[1;31mModuleNotFoundError\u001b[0m: No module named 'cowsay'"
     ]
    }
   ],
   "source": [
    "import cowsay\n",
    "\n",
    "cowsay.turtle(\"Szpinak, jak mi dadzą to jem\")"
   ]
  },
  {
   "cell_type": "markdown",
   "metadata": {},
   "source": [
    "# Zadanie 2 (na 4.0)"
   ]
  },
  {
   "cell_type": "code",
   "execution_count": 12,
   "metadata": {},
   "outputs": [],
   "source": [
    "from math import factorial\n",
    "\n",
    "with open(\"input.txt\", 'r') as file_input:\n",
    "    with open(\"output.txt\", 'w') as file_output:        \n",
    "        for line in file_input:\n",
    "            number = int(line)\n",
    "            fact = factorial(number)\n",
    "            file_output.write(f\"Silnia {number} = {fact}\\n\")\n",
    "\n",
    "print(\"Finished\")"
   ]
  },
  {
   "cell_type": "markdown",
   "metadata": {},
   "source": [
    "# Zadanie 3 (na 4.5 i 5.0)"
   ]
  },
  {
   "cell_type": "code",
   "execution_count": 7,
   "metadata": {},
   "outputs": [
    {
     "name": "stdout",
     "output_type": "stream",
     "text": [
      "Jabłko: 5\n",
      "Tymbark: 2\n",
      "Laptop: 1\n",
      "\n",
      "Jabłko: 5\n",
      "Tymbark: 2\n",
      "Laptop: 2\n",
      "\n",
      "Jabłko: 5\n",
      "Tymbark: 1\n",
      "Laptop: 2\n",
      "\n",
      "Cena koszyka: 4005.94\n",
      "Liczba rzeczy w koszyku: 8\n",
      "\n",
      "Iteracja po koszyku:\n",
      "Jabłko 0.49zł\n",
      "Tymbark 3.49zł\n",
      "Laptop 2000zł\n"
     ]
    }
   ],
   "source": [
    "class Product:\n",
    "    def __init__(self, name, price, quantity):\n",
    "        self.name = name\n",
    "        self.price = price\n",
    "        self.quantity = quantity\n",
    "\n",
    "    def __str__(self):\n",
    "        return f\"{self.name} {self.price}zł\"\n",
    "\n",
    "\n",
    "class Cart:\n",
    "    def __init__(self):\n",
    "        self.products = [\n",
    "            Product(\"Jabłko\", 0.49, 5),\n",
    "            Product(\"Tymbark\", 3.49, 2),\n",
    "            Product(\"Laptop\", 2000, 1)\n",
    "        ]\n",
    "        self.index = 0\n",
    "\n",
    "    def __str__(self):\n",
    "        output = \"\"\n",
    "        for product in self.products:\n",
    "            output += f\"{product.name}: {product.quantity}\\n\"\n",
    "        return output\n",
    "\n",
    "    def __len__(self):\n",
    "        products_quantity = 0\n",
    "        for product in self.products:\n",
    "            products_quantity += product.quantity\n",
    "        return products_quantity\n",
    "\n",
    "    def __iter__(self):\n",
    "        return self\n",
    "\n",
    "    def __next__(self):\n",
    "        try:\n",
    "            result = self.products[self.index]\n",
    "        except IndexError:\n",
    "            raise StopIteration\n",
    "        self.index += 1\n",
    "        return result\n",
    "\n",
    "    def add(self, product_name):\n",
    "        for product in self.products:\n",
    "            if product.name == product_name:\n",
    "                product.quantity += 1\n",
    "                break\n",
    "\n",
    "    def remove(self, product_name):\n",
    "        for product in self.products:\n",
    "            if product.name == product_name:\n",
    "                product.quantity -= 1\n",
    "                break\n",
    "\n",
    "    def total_price(self):\n",
    "        price = 0\n",
    "        for product in self.products:\n",
    "            price += product.price * product.quantity\n",
    "        return price\n",
    "\n",
    "# PREZENTACJA\n",
    "cart = Cart()\n",
    "print(cart)\n",
    "cart.add(\"Laptop\")\n",
    "print(cart)\n",
    "cart.remove(\"Tymbark\")\n",
    "print(cart)\n",
    "print(f\"Cena koszyka: {cart.total_price()}\")\n",
    "print(f\"Liczba rzeczy w koszyku: {len(cart)}\")\n",
    "print(\"\\nIteracja po koszyku:\")\n",
    "for product in cart:\n",
    "    print(product)\n"
   ]
  },
  {
   "cell_type": "markdown",
   "metadata": {},
   "source": []
  }
 ],
 "metadata": {
  "kernelspec": {
   "display_name": "Python 3",
   "language": "python",
   "name": "python3"
  },
  "language_info": {
   "codemirror_mode": {
    "name": "ipython",
    "version": 3
   },
   "file_extension": ".py",
   "mimetype": "text/x-python",
   "name": "python",
   "nbconvert_exporter": "python",
   "pygments_lexer": "ipython3",
   "version": "3.8.5"
  }
 },
 "nbformat": 4,
 "nbformat_minor": 4
}
