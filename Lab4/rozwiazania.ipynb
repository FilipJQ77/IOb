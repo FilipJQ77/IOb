{
 "cells": [
  {
   "cell_type": "code",
   "execution_count": 22,
   "metadata": {},
   "outputs": [],
   "source": [
    "import cv2\n",
    "from matplotlib import pyplot\n",
    "import numpy\n",
    "from scipy.fftpack import dct\n",
    "from scipy.fftpack import idct\n",
    "import struct\n",
    "import zlib"
   ]
  },
  {
   "cell_type": "markdown",
   "metadata": {},
   "source": [
    "# Zadanie 1"
   ]
  },
  {
   "cell_type": "code",
   "execution_count": 23,
   "metadata": {},
   "outputs": [],
   "source": [
    "#\n",
    "# PPM file header\n",
    "#\n",
    "ppm_ascii_header = 'P3\\n2 2\\n255\\n'  # TODO: implement\n",
    "ppm_binary_header = 'P6\\n2 2\\n255\\n'  # TODO: implement\n",
    "\n",
    "#\n",
    "# Image data\n",
    "#\n",
    "image = numpy.array([128, 0, 255, 255, 255, 255, 255, 0, 0, 0, 255, 0], dtype=numpy.uint8)  # TODO: implement\n",
    "\n",
    "#\n",
    "# Save the PPM image as an ASCII file\n",
    "#\n",
    "with open('lab4-ascii.ppm', 'w') as fh:\n",
    "    fh.write(ppm_ascii_header)\n",
    "    image.tofile(fh, sep=' ')\n",
    "    fh.write('\\n')\n",
    "\n",
    "#\n",
    "# Save the PPM image as a binary file\n",
    "#\n",
    "with open('lab4-binary.ppm', 'wb') as fh:\n",
    "    fh.write(bytearray(ppm_binary_header, 'ascii'))\n",
    "    image.tofile(fh)"
   ]
  },
  {
   "cell_type": "code",
   "execution_count": 24,
   "metadata": {},
   "outputs": [
    {
     "data": {
      "text/plain": [
       "<matplotlib.image.AxesImage at 0x197cd790>"
      ]
     },
     "execution_count": 24,
     "metadata": {},
     "output_type": "execute_result"
    },
    {
     "data": {
      "image/png": "[encoded data removed]",
      "text/plain": [
       "<Figure size 432x288 with 1 Axes>"
      ]
     },
     "metadata": {
      "needs_background": "light"
     },
     "output_type": "display_data"
    }
   ],
   "source": [
    "#\n",
    "# Display image\n",
    "#\n",
    "image_from_file = cv2.imread('lab4-ascii.ppm')\n",
    "pyplot.imshow(cv2.cvtColor(image_from_file, cv2.COLOR_BGR2RGB))"
   ]
  },
  {
   "cell_type": "code",
   "execution_count": 25,
   "metadata": {},
   "outputs": [
    {
     "data": {
      "text/plain": [
       "<matplotlib.image.AxesImage at 0x19805040>"
      ]
     },
     "execution_count": 25,
     "metadata": {},
     "output_type": "execute_result"
    },
    {
     "data": {
      "image/png": "[encoded data removed]",
      "text/plain": [
       "<Figure size 432x288 with 1 Axes>"
      ]
     },
     "metadata": {
      "needs_background": "light"
     },
     "output_type": "display_data"
    }
   ],
   "source": [
    "#\n",
    "# Display image\n",
    "#\n",
    "image_from_file = cv2.imread('lab4-binary.ppm')\n",
    "pyplot.imshow(cv2.cvtColor(image_from_file, cv2.COLOR_BGR2RGB))"
   ]
  },
  {
   "cell_type": "markdown",
   "metadata": {},
   "source": [
    "# Zadanie 2"
   ]
  },
  {
   "cell_type": "code",
   "execution_count": 49,
   "metadata": {},
   "outputs": [
    {
     "name": "stdout",
     "output_type": "stream",
     "text": [
      "Done\n"
     ]
    }
   ],
   "source": [
    "width, height = 364, 20\n",
    "different_colors = 51\n",
    "step = 255 // different_colors\n",
    "\n",
    "ppm_ascii_header = f'P3\\n{width} {height}\\n255\\n'\n",
    "ppm_binary_header = f'P6\\n{width} {height}\\n255\\n'\n",
    "\n",
    "R = 0  # red\n",
    "G = 1  # green\n",
    "B = 2  # blue\n",
    "rainbow_list = []\n",
    "current_color = [0, 0, 0]  # begin with black\n",
    "\n",
    "\n",
    "def change_colors(_current_color, channel, _step):\n",
    "    for i in range(different_colors):\n",
    "        rainbow_list.append(_current_color[0])\n",
    "        rainbow_list.append(_current_color[1])\n",
    "        rainbow_list.append(_current_color[2])\n",
    "        _current_color[channel] += _step\n",
    "    rainbow_list.append(_current_color[0])\n",
    "    rainbow_list.append(_current_color[1])\n",
    "    rainbow_list.append(_current_color[2])\n",
    "\n",
    "\n",
    "change_colors(current_color, B, step)  # black -> blue\n",
    "change_colors(current_color, G, step)  # blue -> light blue\n",
    "change_colors(current_color, B, -step)  # light blue -> green\n",
    "change_colors(current_color, R, step)  # green -> yellow\n",
    "change_colors(current_color, G, -step)  # yellow -> red\n",
    "change_colors(current_color, B, step)  # red -> purple\n",
    "change_colors(current_color, G, step)  # purple -> white\n",
    "\n",
    "rainbow_list = rainbow_list * height\n",
    "\n",
    "rainbow_image = numpy.array(rainbow_list, dtype=numpy.uint8)\n",
    "\n",
    "#\n",
    "# Save the PPM image as a binary file\n",
    "#\n",
    "with open('lab4-rainbow.ppm', 'wb') as fh:\n",
    "    fh.write(bytearray(ppm_binary_header, 'ascii'))\n",
    "    rainbow_image.tofile(fh)\n",
    "print(\"Done\")"
   ]
  },
  {
   "cell_type": "code",
   "execution_count": 50,
   "metadata": {},
   "outputs": [
    {
     "data": {
      "text/plain": [
       "<matplotlib.image.AxesImage at 0x199dcd00>"
      ]
     },
     "execution_count": 50,
     "metadata": {},
     "output_type": "execute_result"
    },
    {
     "data": {
      "image/png": "[encoded data removed]",
      "text/plain": [
       "<Figure size 432x288 with 1 Axes>"
      ]
     },
     "metadata": {
      "needs_background": "light"
     },
     "output_type": "display_data"
    }
   ],
   "source": [
    "#\n",
    "# Display image\n",
    "#\n",
    "image_from_file = cv2.imread('lab4-rainbow.ppm')\n",
    "pyplot.imshow(cv2.cvtColor(image_from_file, cv2.COLOR_BGR2RGB))"
   ]
  },
  {
   "cell_type": "markdown",
   "metadata": {},
   "source": [
    "# Zadanie 3\n"
   ]
  },
  {
   "cell_type": "code",
   "execution_count": 15,
   "metadata": {},
   "outputs": [
    {
     "name": "stdout",
     "output_type": "stream",
     "text": [
      "(20, 364, 3)\n",
      "Done\n"
     ]
    }
   ],
   "source": [
    "#\n",
    "# Data image\n",
    "#\n",
    "image = rainbow_image.reshape((height, width, 3))\n",
    "#\n",
    "# Construct signature\n",
    "#\n",
    "png_file_signature = b'\\x89PNG\\r\\n\\x1a\\n'\n",
    "\n",
    "#\n",
    "# Construct header\n",
    "#\n",
    "header_id = b'IHDR'\n",
    "header_content = struct.pack('!I', width) + \\\n",
    "                 struct.pack('!I', height) + \\\n",
    "                 struct.pack('!B', 8) + \\\n",
    "                 struct.pack('!B', 2) + \\\n",
    "                 struct.pack('!B', 0) + \\\n",
    "                 struct.pack('!B', 0) + \\\n",
    "                 struct.pack('!B', 0)\n",
    "header_size = struct.pack('!I', len(header_content))\n",
    "header_crc = struct.pack('!I', zlib.crc32(header_id + header_content))\n",
    "png_file_header = header_size + header_id + header_content + header_crc\n",
    "\n",
    "#\n",
    "# Construct data\n",
    "#\n",
    "data_id = b'IDAT'\n",
    "data_content = zlib.compress(b''.join([b'\\x00' + bytes(row) for row in image]))\n",
    "data_size = struct.pack('!I', len(data_content))\n",
    "data_crc = struct.pack('!I', zlib.crc32(data_id + data_content))\n",
    "png_file_data = data_size + data_id + data_content + data_crc\n",
    "\n",
    "#\n",
    "# Construct end\n",
    "#\n",
    "end_id = b'IEND'\n",
    "end_content = b''\n",
    "end_size = struct.pack('!I', len(end_content))\n",
    "end_crc = struct.pack('!I', zlib.crc32(end_id + end_content))\n",
    "png_file_end = end_size + end_id + end_content + end_crc\n",
    "\n",
    "#\n",
    "# Save the PNG image as a binary file\n",
    "#\n",
    "with open('lab4.png', 'wb') as fh:\n",
    "    fh.write(png_file_signature)\n",
    "    fh.write(png_file_header)\n",
    "    fh.write(png_file_data)\n",
    "    fh.write(png_file_end)\n",
    "\n",
    "print(\"Done\")"
   ]
  },
  {
   "cell_type": "code",
   "execution_count": 16,
   "metadata": {},
   "outputs": [
    {
     "data": {
      "text/plain": [
       "<matplotlib.image.AxesImage at 0x1b9fe1d8>"
      ]
     },
     "execution_count": 16,
     "metadata": {},
     "output_type": "execute_result"
    },
    {
     "data": {
      "image/png": "[encoded data removed]",
      "text/plain": [
       "<Figure size 432x288 with 1 Axes>"
      ]
     },
     "metadata": {
      "needs_background": "light"
     },
     "output_type": "display_data"
    }
   ],
   "source": [
    "#\n",
    "# Display image\n",
    "#\n",
    "image_from_file = cv2.imread('lab4.png')\n",
    "pyplot.imshow(cv2.cvtColor(image_from_file, cv2.COLOR_BGR2RGB))"
   ]
  },
  {
   "cell_type": "markdown",
   "metadata": {},
   "source": [
    "# Funkcje pomocnicze do zadań 4 i 5"
   ]
  },
  {
   "cell_type": "code",
   "execution_count": null,
   "metadata": {},
   "outputs": [],
   "source": [
    "#\n",
    "# 2d Discrete Cosinus Transform\n",
    "#\n",
    "def dct2(array):\n",
    "    return dct(dct(array, axis=0, norm='ortho'), axis=1, norm='ortho')\n",
    "\n",
    "\n",
    "def idct2(array):\n",
    "    return idct(idct(array, axis=0, norm='ortho'), axis=1, norm='ortho')\n",
    "\n",
    "\n",
    "#\n",
    "# Calculate quantisation matrices\n",
    "#\n",
    "# Based on: https://www.hdm-stuttgart.de/~maucher/Python/MMCodecs/html/jpegUpToQuant.html\n",
    "#           #step-3-and-4-discrete-cosinus-transform-and-quantisation\n",
    "#\n",
    "_QY = numpy.array([[16, 11, 10, 16, 24, 40, 51, 61],\n",
    "                   [12, 12, 14, 19, 26, 48, 60, 55],\n",
    "                   [14, 13, 16, 24, 40, 57, 69, 56],\n",
    "                   [14, 17, 22, 29, 51, 87, 80, 62],\n",
    "                   [18, 22, 37, 56, 68, 109, 103, 77],\n",
    "                   [24, 35, 55, 64, 81, 104, 113, 92],\n",
    "                   [49, 64, 78, 87, 103, 121, 120, 101],\n",
    "                   [72, 92, 95, 98, 112, 100, 103, 99]])\n",
    "\n",
    "_QC = numpy.array([[17, 18, 24, 47, 99, 99, 99, 99],\n",
    "                   [18, 21, 26, 66, 99, 99, 99, 99],\n",
    "                   [24, 26, 56, 99, 99, 99, 99, 99],\n",
    "                   [47, 66, 99, 99, 99, 99, 99, 99],\n",
    "                   [99, 99, 99, 99, 99, 99, 99, 99],\n",
    "                   [99, 99, 99, 99, 99, 99, 99, 99],\n",
    "                   [99, 99, 99, 99, 99, 99, 99, 99],\n",
    "                   [99, 99, 99, 99, 99, 99, 99, 99]])\n",
    "\n",
    "\n",
    "def _scale(QF):\n",
    "    if QF < 50 and QF >= 1:\n",
    "        scale = numpy.floor(5000 / QF)\n",
    "    elif QF < 100:\n",
    "        scale = 200 - 2 * QF\n",
    "    else:\n",
    "        raise ValueError('Quality Factor must be in the range [1..99]')\n",
    "\n",
    "    scale = scale / 100.0\n",
    "    return scale\n",
    "\n",
    "\n",
    "def QY(QF=85):\n",
    "    return _QY * _scale(QF)\n",
    "\n",
    "\n",
    "def QC(QF=85):\n",
    "    return _QC * _scale(QF)"
   ]
  },
  {
   "cell_type": "markdown",
   "metadata": {},
   "source": [
    "# Zadania 4 i 5"
   ]
  },
  {
   "cell_type": "code",
   "execution_count": null,
   "metadata": {},
   "outputs": [],
   "source": [
    "#\n",
    "# 0. Image data\n",
    "#\n",
    "# TODO: implement (zad. 4)\n",
    "image = rainbow_image.reshape((height, width, 3))\n",
    "#\n",
    "# 1. Convert RGB to YCbCr\n",
    "#\n",
    "# TODO: implement (zad. 4)\n",
    "image = cv2.cvtColor(image, cv2.COLOR_RGB2YCrCb)\n",
    "\n",
    "#\n",
    "# 2. Downsampling on Cb and Cr channels\n",
    "#\n",
    "# TODO: implement (zad. 4)\n",
    "\n",
    "\n",
    "#\n",
    "# 3. Produce 8x8 blocks\n",
    "#\n",
    "# TODO: implement (zad. 4)\n",
    "\n",
    "#\n",
    "# 4. Calculate DCT on each block\n",
    "#\n",
    "# TODO: implement (zad. 5)\n",
    "\n",
    "#\n",
    "# 5. Divide each block by quantisation matrix\n",
    "#\n",
    "# TODO: implement (zad. 5)\n",
    "\n",
    "#\n",
    "# 6. Round values in each block to integers\n",
    "#\n",
    "# TODO: implement (zad. 5)\n",
    "\n",
    "#\n",
    "# 7. Zig Zag\n",
    "#\n",
    "# TODO: implement (zad. 4)\n",
    "\n",
    "#\n",
    "# 8. Flatten, concatenate, compress and calculate the size -- how many bytes?\n",
    "#\n",
    "# TODO: implement (zad. 4)\n",
    "\n",
    "#\n",
    "# 7'. Undo Zig Zag\n",
    "#\n",
    "# We can skip it in this exercise! We did Zig Zag only for analysis in step 8.\n",
    "# You can continue with result from step 6. instead of implementing undo here.\n",
    "#\n",
    "\n",
    "#\n",
    "# 6'. Nothing to do here   ¯\\_(ツ)_/¯\n",
    "#\n",
    "# No conversion is really needed here, just proceed to the next step.\n",
    "#\n",
    "\n",
    "#\n",
    "# 5'. Reverse division by quantisation matrix -- multiply\n",
    "#\n",
    "# TODO: implement (zad. 5)\n",
    "\n",
    "#\n",
    "# 4'. Reverse DCT\n",
    "#\n",
    "# TODO: implement (zad. 5)\n",
    "\n",
    "#\n",
    "# 3'. Combine 8x8 blocks to original image\n",
    "#\n",
    "# TODO: implement (zad. 4)\n",
    "\n",
    "#\n",
    "# 2'. Upsampling on Cb and Cr channels\n",
    "#\n",
    "# TODO: implement (zad. 4)\n",
    "\n",
    "#\n",
    "# 1'. Convert YCbCr to RGB\n",
    "#\n",
    "# TODO: implement (zad. 4)\n",
    "\n",
    "#\n",
    "# 0'. Save the decoded image -- as PPM or PNG\n",
    "#\n",
    "# TODO: implement (zad. 4)"
   ]
  },
  {
   "cell_type": "code",
   "execution_count": null,
   "metadata": {},
   "outputs": [],
   "source": [
    "#\n",
    "# Display image\n",
    "#\n",
    "image_from_file = cv2.imread('lab4-po-kompresji-i-dekompresji-jpeg.png')\n",
    "pyplot.imshow(cv2.cvtColor(image_from_file, cv2.COLOR_BGR2RGB))"
   ]
  },
  {
   "cell_type": "markdown",
   "metadata": {},
   "source": [
    "# Obserwacje z zadań 4 i 5"
   ]
  },
  {
   "cell_type": "code",
   "execution_count": null,
   "metadata": {},
   "outputs": [],
   "source": []
  }
 ],
 "metadata": {
  "kernelspec": {
   "display_name": "Python 3",
   "language": "python",
   "name": "python3"
  },
  "language_info": {
   "codemirror_mode": {
    "name": "ipython",
    "version": 3
   },
   "file_extension": ".py",
   "mimetype": "text/x-python",
   "name": "python",
   "nbconvert_exporter": "python",
   "pygments_lexer": "ipython3",
   "version": "3.8.2"
  }
 },
 "nbformat": 4,
 "nbformat_minor": 4
}