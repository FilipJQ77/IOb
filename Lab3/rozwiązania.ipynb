{
 "cells": [
  {
   "cell_type": "code",
   "execution_count": null,
   "metadata": {},
   "outputs": [],
   "source": [
    "# komórka na przygotowanie bibliotek, obrazków, etc.\n",
    "import cv2 as cv\n",
    "import numpy as np\n",
    "from matplotlib import pyplot as plt\n",
    "\n",
    "# Ustawienie rozmarów wyświetlanych obrazów\n",
    "plt.rcParams[\"figure.figsize\"] = (18, 10)\n",
    "\n",
    "image = cv.imread(\"images/example.jpg\")\n",
    "image = cv.cvtColor(image, cv.COLOR_BGR2RGB)"
   ]
  },
  {
   "cell_type": "markdown",
   "metadata": {},
   "source": [
    "# Zadanie 1"
   ]
  },
  {
   "cell_type": "code",
   "execution_count": null,
   "metadata": {},
   "outputs": [],
   "source": [
    "kernel = [\n",
    "    [-1, -1, -1],\n",
    "    [-1, 8, -1],\n",
    "    [-1, -1, -1],\n",
    "]\n",
    "kernel = np.asarray(kernel)\n",
    "filtered_image = cv.filter2D(image, -1, kernel=kernel) \n",
    "\n",
    "plt.imshow(filtered_image)"
   ]
  },
  {
   "cell_type": "markdown",
   "metadata": {},
   "source": [
    "# Zadanie 2"
   ]
  },
  {
   "cell_type": "code",
   "execution_count": null,
   "metadata": {},
   "outputs": [],
   "source": [
    "changed_image = image.astype(np.float32)\n",
    "changed_image /= 255.\n",
    "matrix = np.array([0.393, 0.769, 0.189, 0.349, 0.689, 0.168, 0.272, 0.534, 0.131]).reshape(3, 3)\n",
    "\n",
    "# https://stackoverflow.com/a/22081723, jeśli jest jakiś mądrzejszy sposób to chętnie się dowiem (wolałem unikać pętli)\n",
    "reshaped_image = changed_image.reshape((changed_image.shape[0] * changed_image.shape[1], changed_image.shape[2]))\n",
    "result_image = np.clip(np.dot(matrix, reshaped_image.T).T.reshape(changed_image.shape), 0, 1)\n",
    "\n",
    "plt.imshow(result_image)"
   ]
  },
  {
   "cell_type": "markdown",
   "metadata": {},
   "source": [
    "# Zadanie 3"
   ]
  },
  {
   "cell_type": "code",
   "execution_count": null,
   "metadata": {},
   "outputs": [],
   "source": [
    "mult_matrix = np.array([0.229, 0.587, 0.114, 0.500, -0.418, -0.082, -0.168, -0.331, 0.500]).reshape(3, 3)\n",
    "add_matrix = np.array([0, 128, 128]).astype(np.float32).reshape(3, 1)  # float32 żeby można było dodać\n",
    "\n",
    "# reshape obrazka\n",
    "reshaped_image = image.reshape((image.shape[0] * image.shape[1], image.shape[2]))\n",
    "\n",
    "# mnożenie przez macierz\n",
    "yCrCb_image = np.dot(mult_matrix, reshaped_image.T).T.astype(np.float32)  # explicit typ żeby można było dodać\n",
    "\n",
    "# dodawanie macierzy\n",
    "for i in range(len(yCrCb_image)):\n",
    "    yCrCb_image[i] = cv.add(add_matrix, yCrCb_image[i].T).T\n",
    "\n",
    "# reshape z powrotem\n",
    "yCrCb_image = np.array(yCrCb_image).astype(np.uint8).reshape(image.shape)\n",
    "\n",
    "\n",
    "fig, ax = plt.subplots(2, 3)\n",
    "\n",
    "ax[0, 0].imshow(image)\n",
    "ax[0, 0].set_xlabel('Oryginalny obraz')\n",
    "\n",
    "ax[0, 1].imshow(yCrCb_image)\n",
    "ax[0, 1].set_xlabel('Obraz po konwersji na YCrCb')\n",
    "\n",
    "ax[0, 2].imshow(cv.cvtColor(yCrCb_image, cv.COLOR_YCrCb2RGB))\n",
    "ax[0, 2].set_xlabel('Konwersja odwrotna')\n",
    "\n",
    "ax[1, 0].imshow(yCrCb_image[:, :, 0], cmap=\"Greys_r\")\n",
    "ax[1, 0].set_xlabel('Składowa Y')\n",
    "\n",
    "ax[1, 1].imshow(yCrCb_image[:, :, 1], cmap=\"Greys_r\")\n",
    "ax[1, 1].set_xlabel('Składowa Cr')\n",
    "\n",
    "ax[1, 2].imshow(yCrCb_image[:, :, 2], cmap=\"Greys_r\")\n",
    "ax[1, 2].set_xlabel('Składowa Cb')"
   ]
  },
  {
   "cell_type": "markdown",
   "metadata": {},
   "source": [
    "# Zadanie 4"
   ]
  },
  {
   "cell_type": "code",
   "execution_count": null,
   "metadata": {},
   "outputs": [],
   "source": [
    "y_component, cr, cb = cv.split(yCrCb_image)\n",
    "\n",
    "downsampled_cr = np.empty((len(cr) // 2, len(cr[0]) // 2)).astype(np.uint8)\n",
    "downsampled_cb = np.empty((len(cr) // 2, len(cr[0]) // 2)).astype(np.uint8)\n",
    "\n",
    "for x in range(len(cr) // 2):\n",
    "    for y in range(len(cr[0]) // 2):\n",
    "        downsampled_cr[x][y] = cr[x * 2][y * 2]\n",
    "        downsampled_cb[x][y] = cb[x * 2][y * 2]\n",
    "\n",
    "upsampled_cr = np.empty((len(cr), len(cr[0]))).astype(np.uint8)\n",
    "upsampled_cb = np.empty((len(cr), len(cr[0]))).astype(np.uint8)\n",
    "\n",
    "for x in range(len(cr) // 2):\n",
    "    for y in range(len(cr[0]) // 2):\n",
    "        upsampled_cr[x * 2][y * 2] = downsampled_cr[x][y]\n",
    "        upsampled_cr[x * 2 + 1][y * 2] = downsampled_cr[x][y]\n",
    "        upsampled_cr[x * 2][y * 2 + 1] = downsampled_cr[x][y]\n",
    "        upsampled_cr[x * 2 + 1][y * 2 + 1] = downsampled_cr[x][y]\n",
    "\n",
    "        upsampled_cb[x][y] = downsampled_cb[x][y]\n",
    "        upsampled_cb[x + 1][y] = downsampled_cb[x][y]\n",
    "        upsampled_cb[x][y + 1] = downsampled_cb[x][y]\n",
    "        upsampled_cb[x + 1][y + 1] = downsampled_cb[x][y]\n",
    "\n",
    "yCrCb_upsampled_image = np.empty((len(cr), len(cr[0]), 3)).astype(np.uint8)\n",
    "\n",
    "cv.merge((y_component.astype(np.uint8), upsampled_cr.astype(np.uint8), upsampled_cb.astype(np.uint8)),\n",
    "         yCrCb_upsampled_image)\n",
    "\n",
    "rgb_upsampled_image = cv.cvtColor(yCrCb_upsampled_image, cv.COLOR_YCrCb2RGB)\n",
    "\n",
    "fig, ax = plt.subplots(2, 3)\n",
    "\n",
    "ax[0, 0].imshow(image)\n",
    "ax[0, 0].set_xlabel('Oryginalny obraz')\n",
    "\n",
    "ax[0, 1].imshow(yCrCb_image)\n",
    "ax[0, 1].set_xlabel('Obraz po konwersji na YCrCb, downsamplingu i upsamplingu')\n",
    "\n",
    "ax[0, 2].imshow(cv.cvtColor(yCrCb_image, cv.COLOR_YCrCb2RGB))\n",
    "ax[0, 2].set_xlabel('Konwersja odwrotna po down i upsamplingu')\n",
    "\n",
    "ax[1, 0].imshow(yCrCb_image[:, :, 0], cmap=\"Greys_r\")\n",
    "ax[1, 0].set_xlabel('Składowa Y')\n",
    "\n",
    "ax[1, 1].imshow(yCrCb_image[:, :, 1], cmap=\"Greys_r\")\n",
    "ax[1, 1].set_xlabel('Nowa składowa Cr')\n",
    "\n",
    "ax[1, 2].imshow(yCrCb_image[:, :, 2], cmap=\"Greys_r\")\n",
    "ax[1, 2].set_xlabel('Nowa składowa Cb')"
   ]
  },
  {
   "cell_type": "markdown",
   "metadata": {},
   "source": [
    "# Zadanie 5"
   ]
  },
  {
   "cell_type": "code",
   "execution_count": null,
   "metadata": {},
   "outputs": [],
   "source": [
    "mse = 0\n",
    "for x in range(len(cr)):\n",
    "    for y in range(len(cr[0])):\n",
    "        for z in range(3):\n",
    "            base_image_value = int(image[x][y][z])\n",
    "            upsampling_image_value = int(rgb_upsampled_image[x][y][z])\n",
    "            mse += (base_image_value - upsampling_image_value) ** 2\n",
    "            # linijka wyżej - warningi w PyCharmie - overflow(???)\n",
    "            # nie rozumiem czemu, chyba działa dobrze\n",
    "mse /= 3 * len(cr) * len(cr[0])\n",
    "print(mse)"
   ]
  },
  {
   "cell_type": "code",
   "execution_count": null,
   "metadata": {},
   "outputs": [],
   "source": []
  }
 ],
 "metadata": {
  "kernelspec": {
   "display_name": "Python 3",
   "language": "python",
   "name": "python3"
  },
  "language_info": {
   "codemirror_mode": {
    "name": "ipython",
    "version": 3
   },
   "file_extension": ".py",
   "mimetype": "text/x-python",
   "name": "python",
   "nbconvert_exporter": "python",
   "pygments_lexer": "ipython3",
   "version": "3.8.5"
  }
 },
 "nbformat": 4,
 "nbformat_minor": 4
}
